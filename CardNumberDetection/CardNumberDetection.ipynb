{
 "cells": [
  {
   "cell_type": "code",
   "execution_count": 11,
   "metadata": {},
   "outputs": [],
   "source": [
    "# If you are using Windows \n",
    "\n",
    "# import pytesseract\n",
    "# from PIL import Image \n",
    "# img = Image.open('card.jpeg')\n",
    "# pytesseract.pytesseract.tesseract_cmd ='C:/Program Files/Tesseract-OCR/tesseract.exe'\n",
    "# result = pytesseract.image_to_string(img) \n",
    "# with open('card_number.txt',mode ='w') as file:\n",
    "#     file.write(result) \n",
    "#     print(result)"
   ]
  },
  {
   "cell_type": "code",
   "execution_count": 12,
   "metadata": {},
   "outputs": [],
   "source": [
    "import pytesseract\n",
    "from PIL import Image \n"
   ]
  },
  {
   "cell_type": "code",
   "execution_count": 13,
   "metadata": {},
   "outputs": [],
   "source": [
    "img = Image.open('/home/tharun/a1.PROJECTS/CardPay/card.jpg')\n"
   ]
  },
  {
   "cell_type": "code",
   "execution_count": 14,
   "metadata": {},
   "outputs": [],
   "source": [
    "result = pytesseract.image_to_string(img) "
   ]
  },
  {
   "cell_type": "code",
   "execution_count": 15,
   "metadata": {},
   "outputs": [
    {
     "name": "stdout",
     "output_type": "stream",
     "text": [
      "Payiin.\n",
      "\n",
      " \n",
      "\n",
      "6080 3203 2905 7147\n",
      "a PLATINUM\n",
      "tre 04/26\n",
      "\n",
      "TALLAPALLI HARUN KUMAR RuPay»\n",
      "\n",
      "   \n",
      "\n",
      "FOR USE imu omy”\n"
     ]
    }
   ],
   "source": [
    "with open('card_number.txt',mode ='w') as file:\n",
    "    file.write(result) \n",
    "    print(result)"
   ]
  },
  {
   "cell_type": "code",
   "execution_count": null,
   "metadata": {},
   "outputs": [],
   "source": []
  },
  {
   "cell_type": "code",
   "execution_count": null,
   "metadata": {},
   "outputs": [],
   "source": []
  }
 ],
 "metadata": {
  "kernelspec": {
   "display_name": "Python 3",
   "language": "python",
   "name": "python3"
  },
  "language_info": {
   "codemirror_mode": {
    "name": "ipython",
    "version": 3
   },
   "file_extension": ".py",
   "mimetype": "text/x-python",
   "name": "python",
   "nbconvert_exporter": "python",
   "pygments_lexer": "ipython3",
   "version": "3.7.4"
  }
 },
 "nbformat": 4,
 "nbformat_minor": 2
}
