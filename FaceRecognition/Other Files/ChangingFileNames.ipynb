{
 "cells": [
  {
   "cell_type": "code",
   "execution_count": 1,
   "metadata": {},
   "outputs": [],
   "source": [
    "import os\n",
    "os.getcwd()\n",
    "os.chdir('/home/tharun/a1.PROJECTS/CardPay/data/rohith4282/')"
   ]
  },
  {
   "cell_type": "code",
   "execution_count": 3,
   "metadata": {},
   "outputs": [
    {
     "name": "stdout",
     "output_type": "stream",
     "text": [
      "IMG20200712145156.jpg\n",
      "IMG20200712145136.jpg\n",
      "IMG20200712145209.jpg\n",
      "IMG20200712145129.jpg\n",
      "IMG20200712145130.jpg\n",
      "IMG20200712145121.jpg\n",
      "IMG20200712145200.jpg\n",
      "IMG20200712145145.jpg\n",
      "IMG20200712145137.jpg\n",
      "IMG20200712145142.jpg\n",
      "IMG20200712145127.jpg\n",
      "IMG20200712145139.jpg\n",
      "IMG20200712145203.jpg\n",
      "IMG20200712145045.jpg\n",
      "IMG20200712145206.jpg\n",
      "IMG20200712145125.jpg\n",
      "IMG20200712145118.jpg\n",
      "IMG20200712145150.jpg\n",
      "IMG20200712145152.jpg\n",
      "IMG20200712145148.jpg\n"
     ]
    }
   ],
   "source": [
    "collection = \"/home/tharun/a1.PROJECTS/CardPay/data/rohith4282/\"\n",
    "for i , filename in enumerate(os.listdir(collection)):\n",
    "    print(filename)"
   ]
  },
  {
   "cell_type": "code",
   "execution_count": 5,
   "metadata": {},
   "outputs": [],
   "source": [
    "\n",
    "collection = \"/home/tharun/a1.PROJECTS/CardPay/data/rohith4282/\"\n",
    "for i, filename in enumerate(os.listdir(collection)):\n",
    "    os.rename(\"/home/tharun/a1.PROJECTS/CardPay/data/rohith4282/\"+filename,str(i) + \".jpg\")"
   ]
  },
  {
   "cell_type": "code",
   "execution_count": null,
   "metadata": {},
   "outputs": [],
   "source": []
  }
 ],
 "metadata": {
  "kernelspec": {
   "display_name": "Python 3",
   "language": "python",
   "name": "python3"
  },
  "language_info": {
   "codemirror_mode": {
    "name": "ipython",
    "version": 3
   },
   "file_extension": ".py",
   "mimetype": "text/x-python",
   "name": "python",
   "nbconvert_exporter": "python",
   "pygments_lexer": "ipython3",
   "version": "3.7.4"
  }
 },
 "nbformat": 4,
 "nbformat_minor": 2
}
